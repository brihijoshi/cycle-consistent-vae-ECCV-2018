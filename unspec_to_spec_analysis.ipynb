{
 "cells": [
  {
   "cell_type": "code",
   "execution_count": 1,
   "metadata": {},
   "outputs": [],
   "source": [
    "import os\n",
    "import numpy as np\n",
    "import time\n",
    "import pickle\n",
    "import matplotlib.pyplot as plt\n",
    "import matplotlib\n",
    "from sklearn.metrics import accuracy_score, f1_score, classification_report\n",
    "from scipy.stats import norm\n",
    "from itertools import cycle\n",
    "from random import shuffle\n",
    "from sklearn.model_selection import train_test_split\n",
    "\n",
    "\n",
    "\n",
    "import torch\n",
    "from torch import nn\n",
    "import torch.optim as opt\n",
    "from torch.nn import functional as F\n",
    "from torch.utils.data import DataLoader, Dataset\n",
    "from torchvision.datasets import MNIST\n",
    "from torchvision import transforms\n",
    "from livelossplot import PlotLosses\n",
    "from mpl_toolkits.axes_grid1 import ImageGrid\n",
    "from collections import OrderedDict\n",
    "\n",
    "from cycle_consistent_vae_in import Encoder, Decoder\n",
    "\n",
    "np.random.bit_generator = np.random._bit_generator"
   ]
  },
  {
   "cell_type": "code",
   "execution_count": 2,
   "metadata": {},
   "outputs": [
    {
     "data": {
      "text/plain": [
       "Encoder(\n",
       "  (conv_model): Sequential(\n",
       "    (conv_1): Conv2d(3, 16, kernel_size=(5, 5), stride=(2, 2), padding=(1, 1))\n",
       "    (bn_1): InstanceNorm2d(16, eps=1e-05, momentum=0.1, affine=False, track_running_stats=True)\n",
       "    (relu_1): ReLU(inplace)\n",
       "    (conv_2): Conv2d(16, 32, kernel_size=(5, 5), stride=(2, 2), padding=(1, 1))\n",
       "    (bn_2): InstanceNorm2d(32, eps=1e-05, momentum=0.1, affine=False, track_running_stats=True)\n",
       "    (relu_2): ReLU(inplace)\n",
       "    (conv_3): Conv2d(32, 64, kernel_size=(5, 5), stride=(2, 2), padding=(1, 1))\n",
       "    (bn_3): InstanceNorm2d(64, eps=1e-05, momentum=0.1, affine=False, track_running_stats=True)\n",
       "    (relu_3): ReLU(inplace)\n",
       "    (conv_4): Conv2d(64, 128, kernel_size=(5, 5), stride=(2, 2), padding=(1, 1))\n",
       "    (bn_4): InstanceNorm2d(128, eps=1e-05, momentum=0.1, affine=False, track_running_stats=True)\n",
       "    (relu_4): ReLU(inplace)\n",
       "  )\n",
       "  (style_mu): Linear(in_features=512, out_features=512, bias=True)\n",
       "  (style_logvar): Linear(in_features=512, out_features=512, bias=True)\n",
       "  (class_output): Linear(in_features=512, out_features=64, bias=True)\n",
       ")"
      ]
     },
     "execution_count": 2,
     "metadata": {},
     "output_type": "execute_result"
    }
   ],
   "source": [
    "cuda = 1\n",
    "device = torch.device(\"cuda:{}\".format(cuda) if torch.cuda.is_available() else \"cpu\")\n",
    "\n",
    "MODEL_PATH = \"./models/cycle_vae_512_64_in_13052020-175056_499.pth\"\n",
    "checkpoint = torch.load(MODEL_PATH)\n",
    "\n",
    "Z_DIM = 512 #Style Dimension (Unspecified)\n",
    "S_DIM = 64 # Class Dimension (Specified)\n",
    "\n",
    "encoder = Encoder(style_dim=Z_DIM, class_dim=S_DIM)\n",
    "encoder.load_state_dict(checkpoint['encoder'])\n",
    "\n",
    "encoder.to(device)\n",
    "# encoder.eval()"
   ]
  },
  {
   "cell_type": "code",
   "execution_count": 3,
   "metadata": {},
   "outputs": [
    {
     "data": {
      "text/plain": [
       "Decoder(\n",
       "  (style_input): Sequential(\n",
       "    (0): Linear(in_features=512, out_features=512, bias=True)\n",
       "    (1): LeakyReLU(negative_slope=0.2, inplace)\n",
       "  )\n",
       "  (class_input): Sequential(\n",
       "    (0): Linear(in_features=64, out_features=512, bias=True)\n",
       "    (1): LeakyReLU(negative_slope=0.2, inplace)\n",
       "  )\n",
       "  (deconv_model): Sequential(\n",
       "    (deconv_1): ConvTranspose2d(256, 64, kernel_size=(4, 4), stride=(2, 2))\n",
       "    (de_bn_1): InstanceNorm2d(64, eps=1e-05, momentum=0.1, affine=False, track_running_stats=True)\n",
       "    (leakyrelu_1): LeakyReLU(negative_slope=0.2, inplace)\n",
       "    (deconv_2): ConvTranspose2d(64, 32, kernel_size=(4, 4), stride=(2, 2))\n",
       "    (de_bn_2): InstanceNorm2d(32, eps=1e-05, momentum=0.1, affine=False, track_running_stats=True)\n",
       "    (leakyrelu_2): LeakyReLU(negative_slope=0.2, inplace)\n",
       "    (deconv_3): ConvTranspose2d(32, 16, kernel_size=(4, 4), stride=(2, 2))\n",
       "    (de_bn_3): InstanceNorm2d(16, eps=1e-05, momentum=0.1, affine=False, track_running_stats=True)\n",
       "    (leakyrelu_3): LeakyReLU(negative_slope=0.2, inplace)\n",
       "    (deconv_4): ConvTranspose2d(16, 3, kernel_size=(4, 4), stride=(2, 2), padding=(1, 1))\n",
       "  )\n",
       ")"
      ]
     },
     "execution_count": 3,
     "metadata": {},
     "output_type": "execute_result"
    }
   ],
   "source": [
    "decoder = Decoder(style_dim=Z_DIM, class_dim=S_DIM)\n",
    "decoder.load_state_dict(checkpoint['decoder'])\n",
    "\n",
    "decoder.to(device)\n",
    "# encoder.eval()"
   ]
  },
  {
   "cell_type": "markdown",
   "metadata": {},
   "source": [
    "# Data Processing"
   ]
  },
  {
   "cell_type": "code",
   "execution_count": 4,
   "metadata": {},
   "outputs": [],
   "source": [
    "def reparameterize(training, mu, logvar):\n",
    "    if training:\n",
    "        std = torch.exp(0.5 * logvar)\n",
    "        eps = torch.randn_like(std)\n",
    "        return eps * std + mu\n",
    "    else:\n",
    "        return mu"
   ]
  },
  {
   "cell_type": "code",
   "execution_count": 5,
   "metadata": {},
   "outputs": [],
   "source": [
    "class Latent(Dataset):\n",
    "    def __init__(self, data, labels):\n",
    "        self.data = data\n",
    "        self.labels = labels\n",
    "\n",
    "    def __len__(self):\n",
    "        return len(self.data)\n",
    "\n",
    "    def __getitem__(self, index):\n",
    "        img = self.data[index][:,:,:3]\n",
    "        \n",
    "        return (img, self.labels[index])"
   ]
  },
  {
   "cell_type": "code",
   "execution_count": 6,
   "metadata": {},
   "outputs": [],
   "source": [
    "t1 = pickle.load(open('train_latent.pkl','rb'))\n",
    "t2 = pickle.load(open('test_latent.pkl','rb'))"
   ]
  },
  {
   "cell_type": "code",
   "execution_count": 7,
   "metadata": {},
   "outputs": [],
   "source": [
    "BATCH_SIZE = 16\n",
    "train_loader = DataLoader(t1,batch_size=BATCH_SIZE,shuffle=True,num_workers=2)\n",
    "test_loader = DataLoader(t2,batch_size=BATCH_SIZE,shuffle=True,num_workers=2)"
   ]
  },
  {
   "cell_type": "code",
   "execution_count": 8,
   "metadata": {},
   "outputs": [],
   "source": [
    "class UnspecToSpecClassifier(nn.Module):\n",
    "    def __init__(self, style_dim, class_dim):\n",
    "        super(UnspecToSpecClassifier, self).__init__()\n",
    "\n",
    "        self.fc_model = nn.Sequential(OrderedDict([\n",
    "            ('fc_1', nn.Linear(in_features=style_dim, out_features=256, bias=True)),\n",
    "#             ('fc_1_bn', nn.BatchNorm1d(num_features=2048)),\n",
    "            ('leakyrelu_1', nn.LeakyReLU(negative_slope=0.2, inplace=True)),\n",
    "\n",
    "            ('fc_2', nn.Linear(in_features=256, out_features=128, bias=True)),\n",
    "#             ('fc_2_bn', nn.BatchNorm1d(num_features=1024)),\n",
    "            ('leakyrelu_2', nn.LeakyReLU(negative_slope=0.2, inplace=True)),\n",
    "\n",
    "            ('fc_3', nn.Linear(in_features=128, out_features=class_dim, bias=True))\n",
    "        ]))\n",
    "\n",
    "    def forward(self, z):\n",
    "        x = self.fc_model(z)\n",
    "        return x"
   ]
  },
  {
   "cell_type": "markdown",
   "metadata": {},
   "source": [
    "# Training Classifiers\n",
    "\n",
    "## Input as unspecified partition and output as specified partition"
   ]
  },
  {
   "cell_type": "code",
   "execution_count": null,
   "metadata": {},
   "outputs": [],
   "source": [
    "TIME_STAMP = time.strftime(\"%d%m%Y-%H%M%S\")\n",
    "\n",
    "NUM_EPOCHS = 200\n",
    "\n",
    "LEARNING_RATE = 1e-3\n",
    "\n",
    "MOMENTUM = 0.9\n",
    "WEIGHT_DECAY = 1e-4\n",
    "CUDA = True"
   ]
  },
  {
   "cell_type": "code",
   "execution_count": null,
   "metadata": {},
   "outputs": [],
   "source": [
    "model = UnspecToSpecClassifier(style_dim=Z_DIM, class_dim=S_DIM)\n",
    "criterion = torch.nn.MSELoss()\n",
    "optimizer = torch.optim.Adam(model.parameters(),\n",
    "                                 lr=LEARNING_RATE, weight_decay=WEIGHT_DECAY)"
   ]
  },
  {
   "cell_type": "code",
   "execution_count": null,
   "metadata": {},
   "outputs": [],
   "source": [
    "is_better = True\n",
    "prev_acc = float('inf')\n",
    "name = \"unspec_to_spec_512_64\"\n",
    "\n",
    "liveloss = PlotLosses(fig_path='./figures/'+name+\".png\")"
   ]
  },
  {
   "cell_type": "code",
   "execution_count": null,
   "metadata": {},
   "outputs": [],
   "source": [
    "dataloaders = {'train':train_loader, 'validation':test_loader}"
   ]
  },
  {
   "cell_type": "code",
   "execution_count": null,
   "metadata": {},
   "outputs": [],
   "source": [
    "for epoch in range(NUM_EPOCHS):\n",
    "    logs = {}\n",
    "    t_start = time.time()\n",
    "    \n",
    "    for phase in ['train', 'validation']:\n",
    "        if phase == 'train':\n",
    "            model.train()\n",
    "            \n",
    "        else:\n",
    "            model.eval()\n",
    "        model.to(device)\n",
    "        \n",
    "        print(\"Started Phase\")\n",
    "\n",
    "        running_loss = 0.0\n",
    "                \n",
    "        if phase == 'validation':\n",
    "            \n",
    "            with torch.no_grad():\n",
    "                \n",
    "                for (i,batch) in enumerate(dataloaders[phase]):\n",
    "                    input_tensor = batch[0]\n",
    "                    input_tensor = input_tensor.to(device)\n",
    "                    input_tensor = torch.transpose(input_tensor, 2,3)\n",
    "                    input_tensor = torch.transpose(input_tensor, 1,2)\n",
    "\n",
    "                    mu, logvar, s = encoder(input_tensor)\n",
    "                    z = reparameterize(False, mu, logvar)\n",
    "\n",
    "                    bs = input_tensor.shape[0]\n",
    "                    target_tensor = batch[1].to(device).reshape(bs)\n",
    "\n",
    "                    softmaxed_tensor = model(z)\n",
    "\n",
    "                    loss = criterion(softmaxed_tensor, s.float())\n",
    "\n",
    "                    input_tensor = input_tensor.cpu()\n",
    "\n",
    "                    running_loss += loss.detach() * bs\n",
    "                \n",
    "     \n",
    "        else:\n",
    "            \n",
    "            for (i,batch) in enumerate(dataloaders[phase]):\n",
    "                with torch.no_grad():\n",
    "                    input_tensor = batch[0]\n",
    "                    input_tensor = input_tensor.to(device)\n",
    "                    input_tensor = torch.transpose(input_tensor, 2,3)\n",
    "                    input_tensor = torch.transpose(input_tensor, 1,2)\n",
    "\n",
    "                    mu, logvar, s = encoder(input_tensor)\n",
    "                    z = reparameterize(False, mu, logvar)\n",
    "\n",
    "                bs = input_tensor.shape[0]\n",
    "                target_tensor = batch[1].to(device).reshape(bs)\n",
    "\n",
    "                softmaxed_tensor = model(z)\n",
    "\n",
    "                loss = criterion(softmaxed_tensor, s.float())\n",
    "\n",
    "                \n",
    "                optimizer.zero_grad()\n",
    "                loss.backward()\n",
    "                optimizer.step()\n",
    "\n",
    "\n",
    "                input_tensor = input_tensor.cpu()\n",
    "\n",
    "                running_loss += loss.detach() * bs\n",
    "    \n",
    "\n",
    "        epoch_loss = running_loss / len(dataloaders[phase].dataset)\n",
    "\n",
    "        \n",
    "        model.to('cpu')\n",
    "\n",
    "        prefix = ''\n",
    "        if phase == 'validation':\n",
    "            prefix = 'val_'\n",
    "\n",
    "        logs[prefix + 'log loss'] = epoch_loss.item()\n",
    "        \n",
    "        print('Phase time - ',time.time() - t_start)\n",
    "\n",
    "    delta = time.time() - t_start\n",
    "    is_better = logs['val_log loss'] < prev_acc\n",
    "    if is_better:\n",
    "        prev_acc = logs['val_log loss']\n",
    "        torch.save({'epoch': epoch,'model_state_dict': model.state_dict(),'optimizer_state_dict': optimizer.state_dict(), 'loss': logs['log loss']}, \"./models/\"+name+\"_\"+TIME_STAMP+\"_\"+str(logs['val_log loss'])+\".pth\")\n",
    "\n",
    "\n",
    "    liveloss.update(logs)\n",
    "    liveloss.draw()"
   ]
  },
  {
   "cell_type": "markdown",
   "metadata": {},
   "source": [
    "# Analysis\n",
    "\n",
    "To plot a batch of original images, along with the one obtained using the prediction network"
   ]
  },
  {
   "cell_type": "code",
   "execution_count": 9,
   "metadata": {},
   "outputs": [],
   "source": [
    "def imshow_grid(images, shape=[2, 8], name='default', save=False):\n",
    "    \"\"\"\n",
    "    Plot images in a grid of a given shape.\n",
    "    Initial code from: https://github.com/pumpikano/tf-dann/blob/master/utils.py\n",
    "    \"\"\"\n",
    "    fig = plt.figure(1)\n",
    "    grid = ImageGrid(fig, 111, nrows_ncols=shape, axes_pad=0.05)\n",
    "\n",
    "    size = shape[0] * shape[1]\n",
    "    for i in range(size):\n",
    "        grid[i].axis('off')\n",
    "        grid[i].imshow(images[i])  # The AxesGrid object work as a list of axes.\n",
    "\n",
    "    if save:\n",
    "        plt.savefig('./figures/' + str(name) + '.png')\n",
    "        plt.clf()\n",
    "    else:\n",
    "        plt.show()"
   ]
  },
  {
   "cell_type": "code",
   "execution_count": 10,
   "metadata": {},
   "outputs": [],
   "source": [
    "test_loader = cycle(test_loader)"
   ]
  },
  {
   "cell_type": "code",
   "execution_count": 11,
   "metadata": {},
   "outputs": [
    {
     "data": {
      "text/plain": [
       "UnspecToSpecClassifier(\n",
       "  (fc_model): Sequential(\n",
       "    (fc_1): Linear(in_features=512, out_features=256, bias=True)\n",
       "    (leakyrelu_1): LeakyReLU(negative_slope=0.2, inplace)\n",
       "    (fc_2): Linear(in_features=256, out_features=128, bias=True)\n",
       "    (leakyrelu_2): LeakyReLU(negative_slope=0.2, inplace)\n",
       "    (fc_3): Linear(in_features=128, out_features=64, bias=True)\n",
       "  )\n",
       ")"
      ]
     },
     "execution_count": 11,
     "metadata": {},
     "output_type": "execute_result"
    }
   ],
   "source": [
    "SPECIFIED_MODEL_PATH = './models/unspec_to_spec_512_64_15052020-005114_0.0991375595331192.pth'\n",
    "checkpoint = torch.load(SPECIFIED_MODEL_PATH)\n",
    "\n",
    "criterion = torch.nn.MSELoss()\n",
    "\n",
    "model = UnspecToSpecClassifier(style_dim=Z_DIM, class_dim=S_DIM)\n",
    "model.load_state_dict(checkpoint['model_state_dict'])\n",
    "model.eval()\n",
    "model.to(device)"
   ]
  },
  {
   "cell_type": "code",
   "execution_count": 12,
   "metadata": {},
   "outputs": [],
   "source": [
    "elem1 = next(test_loader)\n",
    "image_batch_1 = elem1[0].to(device)\n",
    "image_batch_1 = torch.transpose(image_batch_1, 2,3)\n",
    "image_batch_1 = torch.transpose(image_batch_1, 1,2)\n",
    "\n",
    "\n",
    "z_mu_1, z_logvar_1, _ = encoder(image_batch_1)\n",
    "z_1 = reparameterize(training=False, mu=z_mu_1, logvar=z_logvar_1)\n",
    "\n",
    "with torch.no_grad():\n",
    "    s_1 = model(z_1)\n",
    "    recons = decoder(z_1, s_1)"
   ]
  },
  {
   "cell_type": "code",
   "execution_count": 13,
   "metadata": {},
   "outputs": [
    {
     "data": {
      "image/png": "[encoded data removed]",
      "text/plain": [
       "<Figure size 432x288 with 32 Axes>"
      ]
     },
     "metadata": {
      "needs_background": "light"
     },
     "output_type": "display_data"
    }
   ],
   "source": [
    "imshow_grid(np.transpose(image_batch_1.detach().cpu().numpy(), (0, 2, 3, 1)),\\\n",
    "            name='_target', save=False)"
   ]
  },
  {
   "cell_type": "code",
   "execution_count": 14,
   "metadata": {},
   "outputs": [
    {
     "name": "stderr",
     "output_type": "stream",
     "text": [
      "Clipping input data to the valid range for imshow with RGB data ([0..1] for floats or [0..255] for integers).\n",
      "Clipping input data to the valid range for imshow with RGB data ([0..1] for floats or [0..255] for integers).\n",
      "Clipping input data to the valid range for imshow with RGB data ([0..1] for floats or [0..255] for integers).\n",
      "Clipping input data to the valid range for imshow with RGB data ([0..1] for floats or [0..255] for integers).\n",
      "Clipping input data to the valid range for imshow with RGB data ([0..1] for floats or [0..255] for integers).\n",
      "Clipping input data to the valid range for imshow with RGB data ([0..1] for floats or [0..255] for integers).\n",
      "Clipping input data to the valid range for imshow with RGB data ([0..1] for floats or [0..255] for integers).\n",
      "Clipping input data to the valid range for imshow with RGB data ([0..1] for floats or [0..255] for integers).\n",
      "Clipping input data to the valid range for imshow with RGB data ([0..1] for floats or [0..255] for integers).\n",
      "Clipping input data to the valid range for imshow with RGB data ([0..1] for floats or [0..255] for integers).\n",
      "Clipping input data to the valid range for imshow with RGB data ([0..1] for floats or [0..255] for integers).\n",
      "Clipping input data to the valid range for imshow with RGB data ([0..1] for floats or [0..255] for integers).\n",
      "Clipping input data to the valid range for imshow with RGB data ([0..1] for floats or [0..255] for integers).\n",
      "Clipping input data to the valid range for imshow with RGB data ([0..1] for floats or [0..255] for integers).\n",
      "Clipping input data to the valid range for imshow with RGB data ([0..1] for floats or [0..255] for integers).\n",
      "Clipping input data to the valid range for imshow with RGB data ([0..1] for floats or [0..255] for integers).\n"
     ]
    },
    {
     "data": {
      "image/png": "[encoded data removed]",
      "text/plain": [
       "<Figure size 432x288 with 32 Axes>"
      ]
     },
     "metadata": {
      "needs_background": "light"
     },
     "output_type": "display_data"
    }
   ],
   "source": [
    "imshow_grid(np.transpose(recons.detach().cpu().numpy(), (0, 2, 3, 1)),\\\n",
    "            name='_target', save=False)"
   ]
  },
  {
   "cell_type": "code",
   "execution_count": null,
   "metadata": {},
   "outputs": [],
   "source": []
  }
 ],
 "metadata": {
  "kernelspec": {
   "display_name": "t2",
   "language": "python",
   "name": "t2"
  },
  "language_info": {
   "codemirror_mode": {
    "name": "ipython",
    "version": 3
   },
   "file_extension": ".py",
   "mimetype": "text/x-python",
   "name": "python",
   "nbconvert_exporter": "python",
   "pygments_lexer": "ipython3",
   "version": "3.6.8"
  }
 },
 "nbformat": 4,
 "nbformat_minor": 2
}
