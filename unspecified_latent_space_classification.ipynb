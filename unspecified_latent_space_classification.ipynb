{
 "cells": [
  {
   "cell_type": "code",
   "execution_count": null,
   "metadata": {},
   "outputs": [],
   "source": [
    "import os\n",
    "import numpy as np\n",
    "import time\n",
    "import pickle\n",
    "import matplotlib.pyplot as plt\n",
    "import matplotlib\n",
    "from sklearn.metrics import accuracy_score, f1_score, classification_report\n",
    "from scipy.stats import norm\n",
    "from itertools import cycle\n",
    "from random import shuffle\n",
    "from sklearn.model_selection import train_test_split\n",
    "\n",
    "\n",
    "\n",
    "import torch\n",
    "from torch import nn\n",
    "import torch.optim as opt\n",
    "from torch.nn import functional as F\n",
    "from torch.utils.data import DataLoader, Dataset\n",
    "from torchvision.datasets import MNIST\n",
    "from torchvision import transforms\n",
    "from livelossplot import PlotLosses\n",
    "from mpl_toolkits.axes_grid1 import ImageGrid\n",
    "from collections import OrderedDict\n",
    "\n",
    "from cycle_consistent_vae import Encoder, Decoder\n",
    "from latent_classifier import Classifier\n",
    "\n",
    "\n",
    "np.random.bit_generator = np.random._bit_generator"
   ]
  },
  {
   "cell_type": "code",
   "execution_count": null,
   "metadata": {},
   "outputs": [],
   "source": [
    "cuda = 1\n",
    "device = torch.device(\"cuda:{}\".format(cuda) if torch.cuda.is_available() else \"cpu\")\n",
    "\n",
    "MODEL_PATH = \"./models/cycle_vae_06052020-030456_99.pth\"\n",
    "checkpoint = torch.load(MODEL_PATH)\n",
    "\n",
    "Z_DIM = 16 #Style Dimension (Unspecified)\n",
    "S_DIM = 16 # Class Dimension (Specified)\n",
    "\n",
    "encoder = Encoder(style_dim=Z_DIM, class_dim=S_DIM)\n",
    "encoder.load_state_dict(checkpoint['encoder'])\n",
    "\n",
    "encoder.to(device)\n",
    "encoder.eval()"
   ]
  },
  {
   "cell_type": "code",
   "execution_count": null,
   "metadata": {},
   "outputs": [],
   "source": [
    "def reparameterize(training, mu, logvar):\n",
    "    if training:\n",
    "        std = torch.exp(0.5 * logvar)\n",
    "        eps = torch.randn_like(std)\n",
    "        return eps * std + mu\n",
    "    else:\n",
    "        return mu"
   ]
  },
  {
   "cell_type": "markdown",
   "metadata": {},
   "source": [
    "# Dataset processing"
   ]
  },
  {
   "cell_type": "code",
   "execution_count": null,
   "metadata": {},
   "outputs": [],
   "source": [
    "class Latent(Dataset):\n",
    "    def __init__(self, data, labels):\n",
    "        self.data = data\n",
    "        self.labels = labels\n",
    "        self.encoder = encoder\n",
    "\n",
    "    def __len__(self):\n",
    "        return len(self.data)\n",
    "\n",
    "    def __getitem__(self, index):\n",
    "        img = self.data[index][:,:,:3]\n",
    "        \n",
    "        return (img, self.labels[index])"
   ]
  },
  {
   "cell_type": "code",
   "execution_count": null,
   "metadata": {
    "scrolled": true
   },
   "outputs": [],
   "source": [
    "# PATH = './processed/'\n",
    "# files = os.listdir(PATH)\n",
    "# data = []\n",
    "# labels = []\n",
    "\n",
    "# counter=0\n",
    "# for folder in files:\n",
    "#     print(counter)\n",
    "#     sprites = os.listdir(PATH+folder)\n",
    "#     for sprite in sprites:\n",
    "#         data.append(plt.imread(PATH+folder+\"/\"+sprite))\n",
    "#         labels.append(int(folder))\n",
    "#     counter+=1"
   ]
  },
  {
   "cell_type": "code",
   "execution_count": null,
   "metadata": {},
   "outputs": [],
   "source": [
    "# X_train, X_test, y_train, y_test = train_test_split(data, labels, \\\n",
    "#                                                     test_size=0.33, random_state=42, \\\n",
    "#                                                     shuffle=True, stratify=labels )"
   ]
  },
  {
   "cell_type": "code",
   "execution_count": null,
   "metadata": {},
   "outputs": [],
   "source": [
    "# train_data = Latent(X_train, y_train)\n",
    "# test_data = Latent(X_test, y_test)"
   ]
  },
  {
   "cell_type": "code",
   "execution_count": null,
   "metadata": {},
   "outputs": [],
   "source": [
    "# with open('train_latent.pkl','wb') as f:\n",
    "#     pickle.dump(train_data, f)\n",
    "# with open('test_latent.pkl','wb') as f:\n",
    "#     pickle.dump(test_data, f)"
   ]
  },
  {
   "cell_type": "code",
   "execution_count": null,
   "metadata": {},
   "outputs": [],
   "source": [
    "t1 = pickle.load(open('train_latent.pkl','rb'))\n",
    "t2 = pickle.load(open('test_latent.pkl','rb'))"
   ]
  },
  {
   "cell_type": "code",
   "execution_count": null,
   "metadata": {},
   "outputs": [],
   "source": [
    "BATCH_SIZE = 16\n",
    "train_loader = DataLoader(t1,batch_size=BATCH_SIZE,shuffle=True,num_workers=2)\n",
    "test_loader = DataLoader(t2,batch_size=BATCH_SIZE,shuffle=True,num_workers=2)"
   ]
  },
  {
   "cell_type": "code",
   "execution_count": null,
   "metadata": {},
   "outputs": [],
   "source": [
    "NUM_CLASSES=672"
   ]
  },
  {
   "cell_type": "markdown",
   "metadata": {},
   "source": [
    "# Latent Classifier - Unpecified Features"
   ]
  },
  {
   "cell_type": "code",
   "execution_count": null,
   "metadata": {},
   "outputs": [],
   "source": [
    "TIME_STAMP = time.strftime(\"%d%m%Y-%H%M%S\")\n",
    "\n",
    "NUM_EPOCHS = 200\n",
    "\n",
    "LEARNING_RATE = 1e-3\n",
    "\n",
    "MOMENTUM = 0.9\n",
    "WEIGHT_DECAY = 1e-4\n",
    "CUDA = True"
   ]
  },
  {
   "cell_type": "code",
   "execution_count": null,
   "metadata": {},
   "outputs": [],
   "source": [
    "model = Classifier(z_dim=Z_DIM, num_classes=NUM_CLASSES)\n",
    "criterion = torch.nn.CrossEntropyLoss()\n",
    "optimizer = torch.optim.Adam(model.parameters(),\n",
    "                                 lr=LEARNING_RATE, weight_decay=WEIGHT_DECAY)"
   ]
  },
  {
   "cell_type": "code",
   "execution_count": null,
   "metadata": {},
   "outputs": [],
   "source": [
    "is_better = True\n",
    "prev_acc = 0\n",
    "name = \"unspecified_latent_classifier\"\n",
    "\n",
    "liveloss = PlotLosses(fig_path='./figures/'+name+\".png\")"
   ]
  },
  {
   "cell_type": "code",
   "execution_count": null,
   "metadata": {},
   "outputs": [],
   "source": [
    "dataloaders = {'train':train_loader, 'validation':test_loader}"
   ]
  },
  {
   "cell_type": "code",
   "execution_count": null,
   "metadata": {},
   "outputs": [],
   "source": [
    "for epoch in range(NUM_EPOCHS):\n",
    "    logs = {}\n",
    "    t_start = time.time()\n",
    "    \n",
    "    for phase in ['train', 'validation']:\n",
    "        if phase == 'train':\n",
    "            model.train()\n",
    "            \n",
    "        else:\n",
    "            model.eval()\n",
    "        model.to(device)\n",
    "        \n",
    "        print(\"Started Phase\")\n",
    "\n",
    "        running_loss = 0.0\n",
    "                \n",
    "        predicted_phase = torch.zeros(len(dataloaders[phase].dataset), NUM_CLASSES)\n",
    "        target_phase = torch.zeros(len(dataloaders[phase].dataset))\n",
    "        \n",
    "        if phase == 'validation':\n",
    "            \n",
    "            with torch.no_grad():\n",
    "                \n",
    "                for (i,batch) in enumerate(dataloaders[phase]):\n",
    "                    input_tensor = batch[0]\n",
    "                    input_tensor = input_tensor.to(device)\n",
    "                    input_tensor = torch.transpose(input_tensor, 2,3)\n",
    "                    input_tensor = torch.transpose(input_tensor, 1,2)\n",
    "\n",
    "                    z_mu, z_logvar, _ = encoder(input_tensor)\n",
    "                    latent_vector = reparameterize(training=True, mu=z_mu, logvar=z_logvar)\n",
    "\n",
    "                    bs = input_tensor.shape[0]\n",
    "                    target_tensor = batch[1].to(device).reshape(bs)\n",
    "\n",
    "                    softmaxed_tensor = model(latent_vector)\n",
    "\n",
    "                    loss = criterion(softmaxed_tensor, target_tensor.long())\n",
    "\n",
    "                    predicted_phase[i*bs:(i+1)*bs] = softmaxed_tensor.cpu()\n",
    "                    target_phase[i*bs:(i+1)*bs] = target_tensor.cpu()\n",
    "\n",
    "                    input_tensor = input_tensor.cpu()\n",
    "                    target_tensor = target_tensor.cpu()\n",
    "\n",
    "                    running_loss += loss.detach() * bs\n",
    "                \n",
    "     \n",
    "        else:\n",
    "            \n",
    "            for (i,batch) in enumerate(dataloaders[phase]):\n",
    "                input_tensor = batch[0]\n",
    "                input_tensor = input_tensor.to(device)\n",
    "                input_tensor = torch.transpose(input_tensor, 2,3)\n",
    "                input_tensor = torch.transpose(input_tensor, 1,2)\n",
    "                \n",
    "                z_mu, z_logvar, _ = encoder(input_tensor)\n",
    "                latent_vector = reparameterize(training=True, mu=z_mu, logvar=z_logvar)\n",
    "                \n",
    "                bs = input_tensor.shape[0]\n",
    "                target_tensor = batch[1].to(device).reshape(bs)\n",
    "                \n",
    "                softmaxed_tensor = model(latent_vector)\n",
    "\n",
    "                loss = criterion(softmaxed_tensor, target_tensor.long())\n",
    "\n",
    "                predicted_phase[i*bs:(i+1)*bs] = softmaxed_tensor.cpu()\n",
    "                target_phase[i*bs:(i+1)*bs] = target_tensor.cpu()\n",
    "                \n",
    "                optimizer.zero_grad()\n",
    "                loss.backward()\n",
    "                optimizer.step()\n",
    "\n",
    "\n",
    "                input_tensor = input_tensor.cpu()\n",
    "                target_tensor = target_tensor.cpu()\n",
    "\n",
    "                running_loss += loss.detach() * bs\n",
    "    \n",
    "\n",
    "        epoch_loss = running_loss / len(dataloaders[phase].dataset)\n",
    "        epoch_predicted = torch.argmax(predicted_phase, dim=1)\n",
    "        epoch_f1 = f1_score(target_phase, epoch_predicted, average = 'macro')\n",
    "        epoch_accuracy = accuracy_score(target_phase, epoch_predicted)\n",
    "\n",
    "        \n",
    "        model.to('cpu')\n",
    "\n",
    "        prefix = ''\n",
    "        if phase == 'validation':\n",
    "            prefix = 'val_'\n",
    "\n",
    "        logs[prefix + 'log loss'] = epoch_loss.item()\n",
    "        logs[prefix + 'f1'] = epoch_f1.item()\n",
    "        logs[prefix + 'accuracy'] = epoch_accuracy.item()\n",
    "        \n",
    "        print('Phase time - ',time.time() - t_start)\n",
    "\n",
    "    delta = time.time() - t_start\n",
    "    is_better = logs['val_accuracy'] > prev_acc\n",
    "    if is_better:\n",
    "        prev_acc = logs['val_accuracy']\n",
    "        torch.save({'epoch': epoch,'model_state_dict': model.state_dict(),'optimizer_state_dict': optimizer.state_dict(), 'loss': logs['log loss']}, \"./models/\"+name+\"_\"+TIME_STAMP+\"_\"+str(logs['val_accuracy'])+\".pth\")\n",
    "\n",
    "\n",
    "    liveloss.update(logs)\n",
    "    liveloss.draw()"
   ]
  },
  {
   "cell_type": "code",
   "execution_count": null,
   "metadata": {},
   "outputs": [],
   "source": []
  }
 ],
 "metadata": {
  "kernelspec": {
   "display_name": "t2",
   "language": "python",
   "name": "t2"
  },
  "language_info": {
   "codemirror_mode": {
    "name": "ipython",
    "version": 3
   },
   "file_extension": ".py",
   "mimetype": "text/x-python",
   "name": "python",
   "nbconvert_exporter": "python",
   "pygments_lexer": "ipython3",
   "version": "3.6.8"
  }
 },
 "nbformat": 4,
 "nbformat_minor": 2
}
