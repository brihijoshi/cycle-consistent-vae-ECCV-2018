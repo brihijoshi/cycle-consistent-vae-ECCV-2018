{
 "cells": [
  {
   "cell_type": "code",
   "execution_count": 1,
   "metadata": {},
   "outputs": [],
   "source": [
    "import os\n",
    "import numpy as np\n",
    "import time\n",
    "import pickle\n",
    "import matplotlib.pyplot as plt\n",
    "import matplotlib\n",
    "from sklearn.metrics import accuracy_score, f1_score, classification_report\n",
    "from scipy.stats import norm\n",
    "from itertools import cycle\n",
    "from random import shuffle\n",
    "from sklearn.model_selection import train_test_split\n",
    "\n",
    "\n",
    "\n",
    "import torch\n",
    "from torch import nn\n",
    "import torch.optim as opt\n",
    "from torch.nn import functional as F\n",
    "from torch.utils.data import DataLoader, Dataset\n",
    "from torchvision.datasets import MNIST\n",
    "from torchvision import transforms\n",
    "from livelossplot import PlotLosses\n",
    "from mpl_toolkits.axes_grid1 import ImageGrid\n",
    "from collections import OrderedDict\n",
    "\n",
    "from cycle_consistent_vae_in import Encoder, Decoder\n",
    "from latent_classifier import Classifier\n",
    "\n",
    "\n",
    "np.random.bit_generator = np.random._bit_generator"
   ]
  },
  {
   "cell_type": "code",
   "execution_count": 2,
   "metadata": {},
   "outputs": [
    {
     "data": {
      "text/plain": [
       "Encoder(\n",
       "  (conv_model): Sequential(\n",
       "    (conv_1): Conv2d(3, 16, kernel_size=(5, 5), stride=(2, 2), padding=(1, 1))\n",
       "    (bn_1): InstanceNorm2d(16, eps=1e-05, momentum=0.1, affine=False, track_running_stats=True)\n",
       "    (relu_1): ReLU(inplace)\n",
       "    (conv_2): Conv2d(16, 32, kernel_size=(5, 5), stride=(2, 2), padding=(1, 1))\n",
       "    (bn_2): InstanceNorm2d(32, eps=1e-05, momentum=0.1, affine=False, track_running_stats=True)\n",
       "    (relu_2): ReLU(inplace)\n",
       "    (conv_3): Conv2d(32, 64, kernel_size=(5, 5), stride=(2, 2), padding=(1, 1))\n",
       "    (bn_3): InstanceNorm2d(64, eps=1e-05, momentum=0.1, affine=False, track_running_stats=True)\n",
       "    (relu_3): ReLU(inplace)\n",
       "    (conv_4): Conv2d(64, 128, kernel_size=(5, 5), stride=(2, 2), padding=(1, 1))\n",
       "    (bn_4): InstanceNorm2d(128, eps=1e-05, momentum=0.1, affine=False, track_running_stats=True)\n",
       "    (relu_4): ReLU(inplace)\n",
       "  )\n",
       "  (style_mu): Linear(in_features=512, out_features=512, bias=True)\n",
       "  (style_logvar): Linear(in_features=512, out_features=512, bias=True)\n",
       "  (class_output): Linear(in_features=512, out_features=64, bias=True)\n",
       ")"
      ]
     },
     "execution_count": 2,
     "metadata": {},
     "output_type": "execute_result"
    }
   ],
   "source": [
    "cuda = 1\n",
    "device = torch.device(\"cuda:{}\".format(cuda) if torch.cuda.is_available() else \"cpu\")\n",
    "\n",
    "MODEL_PATH = \"./models_final/cycle_vae_512_64_in_13052020-175056_499.pth\"\n",
    "checkpoint = torch.load(MODEL_PATH)\n",
    "\n",
    "Z_DIM = 512 #Style Dimension (Unspecified)\n",
    "S_DIM = 64 # Class Dimension (Specified)\n",
    "\n",
    "encoder = Encoder(style_dim=Z_DIM, class_dim=S_DIM)\n",
    "encoder.load_state_dict(checkpoint['encoder'])\n",
    "\n",
    "encoder.to(device)\n",
    "# encoder.eval()"
   ]
  },
  {
   "cell_type": "code",
   "execution_count": 3,
   "metadata": {},
   "outputs": [],
   "source": [
    "def reparameterize(training, mu, logvar):\n",
    "    if training:\n",
    "        std = torch.exp(0.5 * logvar)\n",
    "        eps = torch.randn_like(std)\n",
    "        return eps * std + mu\n",
    "    else:\n",
    "        return mu"
   ]
  },
  {
   "cell_type": "markdown",
   "metadata": {},
   "source": [
    "# Dataset processing"
   ]
  },
  {
   "cell_type": "code",
   "execution_count": 4,
   "metadata": {},
   "outputs": [],
   "source": [
    "class Latent(Dataset):\n",
    "    def __init__(self, data, labels):\n",
    "        self.data = data\n",
    "        self.labels = labels\n",
    "        self.encoder = encoder\n",
    "\n",
    "    def __len__(self):\n",
    "        return len(self.data)\n",
    "\n",
    "    def __getitem__(self, index):\n",
    "        img = self.data[index][:,:,:3]\n",
    "        \n",
    "        return (img, self.labels[index])"
   ]
  },
  {
   "cell_type": "code",
   "execution_count": 7,
   "metadata": {
    "scrolled": true
   },
   "outputs": [],
   "source": [
    "# PATH = './processed/'\n",
    "# files = os.listdir(PATH)\n",
    "# data = []\n",
    "# labels = []\n",
    "\n",
    "# counter=0\n",
    "# for folder in files:\n",
    "#     print(counter)\n",
    "#     sprites = os.listdir(PATH+folder)\n",
    "#     for sprite in sprites:\n",
    "#         data.append(plt.imread(PATH+folder+\"/\"+sprite))\n",
    "#         labels.append(int(folder))\n",
    "#     counter+=1"
   ]
  },
  {
   "cell_type": "code",
   "execution_count": 8,
   "metadata": {},
   "outputs": [],
   "source": [
    "# X_train, X_test, y_train, y_test = train_test_split(data, labels, \\\n",
    "#                                                     test_size=0.33, random_state=42, \\\n",
    "#                                                     shuffle=True, stratify=labels )"
   ]
  },
  {
   "cell_type": "code",
   "execution_count": 9,
   "metadata": {},
   "outputs": [],
   "source": [
    "# train_data = Latent(X_train, y_train)\n",
    "# test_data = Latent(X_test, y_test)"
   ]
  },
  {
   "cell_type": "code",
   "execution_count": 10,
   "metadata": {},
   "outputs": [],
   "source": [
    "# with open('train_latent.pkl','wb') as f:\n",
    "#     pickle.dump(train_data, f)\n",
    "# with open('test_latent.pkl','wb') as f:\n",
    "#     pickle.dump(test_data, f)"
   ]
  },
  {
   "cell_type": "code",
   "execution_count": 5,
   "metadata": {},
   "outputs": [],
   "source": [
    "t1 = pickle.load(open('train_latent.pkl','rb'))\n",
    "t2 = pickle.load(open('test_latent.pkl','rb'))"
   ]
  },
  {
   "cell_type": "code",
   "execution_count": 6,
   "metadata": {},
   "outputs": [],
   "source": [
    "BATCH_SIZE = 16\n",
    "train_loader = DataLoader(t1,batch_size=BATCH_SIZE,shuffle=True,num_workers=2)\n",
    "test_loader = DataLoader(t2,batch_size=BATCH_SIZE,shuffle=True,num_workers=2)"
   ]
  },
  {
   "cell_type": "code",
   "execution_count": 7,
   "metadata": {},
   "outputs": [],
   "source": [
    "NUM_CLASSES=672"
   ]
  },
  {
   "cell_type": "markdown",
   "metadata": {},
   "source": [
    "# Latent Classifier - Unpecified Features"
   ]
  },
  {
   "cell_type": "code",
   "execution_count": null,
   "metadata": {},
   "outputs": [],
   "source": [
    "TIME_STAMP = time.strftime(\"%d%m%Y-%H%M%S\")\n",
    "\n",
    "NUM_EPOCHS = 200\n",
    "\n",
    "LEARNING_RATE = 1e-3\n",
    "\n",
    "MOMENTUM = 0.9\n",
    "WEIGHT_DECAY = 1e-4\n",
    "CUDA = True"
   ]
  },
  {
   "cell_type": "code",
   "execution_count": null,
   "metadata": {},
   "outputs": [],
   "source": [
    "model = Classifier(z_dim=Z_DIM, num_classes=NUM_CLASSES)\n",
    "criterion = torch.nn.CrossEntropyLoss()\n",
    "optimizer = torch.optim.Adam(model.parameters(),\n",
    "                                 lr=LEARNING_RATE, weight_decay=WEIGHT_DECAY)"
   ]
  },
  {
   "cell_type": "code",
   "execution_count": null,
   "metadata": {},
   "outputs": [],
   "source": [
    "is_better = True\n",
    "prev_acc = 0\n",
    "name = \"unspecified_latent_classifier_512_65_in_499\"\n",
    "\n",
    "liveloss = PlotLosses(fig_path='./figures/'+name+\".png\")"
   ]
  },
  {
   "cell_type": "code",
   "execution_count": null,
   "metadata": {},
   "outputs": [],
   "source": [
    "dataloaders = {'train':train_loader, 'validation':test_loader}"
   ]
  },
  {
   "cell_type": "code",
   "execution_count": null,
   "metadata": {},
   "outputs": [],
   "source": [
    "for epoch in range(NUM_EPOCHS):\n",
    "    logs = {}\n",
    "    t_start = time.time()\n",
    "    \n",
    "    for phase in ['train', 'validation']:\n",
    "        if phase == 'train':\n",
    "            model.train()\n",
    "            \n",
    "        else:\n",
    "            model.eval()\n",
    "        model.to(device)\n",
    "        \n",
    "        print(\"Started Phase\")\n",
    "\n",
    "        running_loss = 0.0\n",
    "                \n",
    "        predicted_phase = torch.zeros(len(dataloaders[phase].dataset), NUM_CLASSES)\n",
    "        target_phase = torch.zeros(len(dataloaders[phase].dataset))\n",
    "        \n",
    "        if phase == 'validation':\n",
    "            \n",
    "            with torch.no_grad():\n",
    "                \n",
    "                for (i,batch) in enumerate(dataloaders[phase]):\n",
    "                    input_tensor = batch[0]\n",
    "                    input_tensor = input_tensor.to(device)\n",
    "                    input_tensor = torch.transpose(input_tensor, 2,3)\n",
    "                    input_tensor = torch.transpose(input_tensor, 1,2)\n",
    "\n",
    "                    z_mu, z_logvar, _ = encoder(input_tensor)\n",
    "                    latent_vector = reparameterize(training=True, mu=z_mu, logvar=z_logvar)\n",
    "\n",
    "                    bs = input_tensor.shape[0]\n",
    "                    target_tensor = batch[1].to(device).reshape(bs)\n",
    "\n",
    "                    softmaxed_tensor = model(latent_vector)\n",
    "\n",
    "                    loss = criterion(softmaxed_tensor, target_tensor.long())\n",
    "\n",
    "                    predicted_phase[i*bs:(i+1)*bs] = softmaxed_tensor.cpu()\n",
    "                    target_phase[i*bs:(i+1)*bs] = target_tensor.cpu()\n",
    "\n",
    "                    input_tensor = input_tensor.cpu()\n",
    "                    target_tensor = target_tensor.cpu()\n",
    "\n",
    "                    running_loss += loss.detach() * bs\n",
    "                \n",
    "     \n",
    "        else:\n",
    "            \n",
    "            for (i,batch) in enumerate(dataloaders[phase]):\n",
    "                with torch.no_grad():\n",
    "                    input_tensor = batch[0]\n",
    "                    input_tensor = input_tensor.to(device)\n",
    "                    input_tensor = torch.transpose(input_tensor, 2,3)\n",
    "                    input_tensor = torch.transpose(input_tensor, 1,2)\n",
    "\n",
    "                    z_mu, z_logvar, _ = encoder(input_tensor)\n",
    "                    latent_vector = reparameterize(training=True, mu=z_mu, logvar=z_logvar)\n",
    "                \n",
    "                bs = input_tensor.shape[0]\n",
    "                target_tensor = batch[1].to(device).reshape(bs)\n",
    "                \n",
    "                softmaxed_tensor = model(latent_vector)\n",
    "\n",
    "                loss = criterion(softmaxed_tensor, target_tensor.long())\n",
    "\n",
    "                predicted_phase[i*bs:(i+1)*bs] = softmaxed_tensor.cpu()\n",
    "                target_phase[i*bs:(i+1)*bs] = target_tensor.cpu()\n",
    "                \n",
    "                optimizer.zero_grad()\n",
    "                loss.backward()\n",
    "                optimizer.step()\n",
    "\n",
    "\n",
    "                input_tensor = input_tensor.cpu()\n",
    "                target_tensor = target_tensor.cpu()\n",
    "\n",
    "                running_loss += loss.detach() * bs\n",
    "    \n",
    "\n",
    "        epoch_loss = running_loss / len(dataloaders[phase].dataset)\n",
    "        epoch_predicted = torch.argmax(predicted_phase, dim=1)\n",
    "        epoch_f1 = f1_score(target_phase, epoch_predicted, average = 'macro')\n",
    "        epoch_accuracy = accuracy_score(target_phase, epoch_predicted)\n",
    "\n",
    "        \n",
    "        model.to('cpu')\n",
    "\n",
    "        prefix = ''\n",
    "        if phase == 'validation':\n",
    "            prefix = 'val_'\n",
    "\n",
    "        logs[prefix + 'log loss'] = epoch_loss.item()\n",
    "        logs[prefix + 'f1'] = epoch_f1.item()\n",
    "        logs[prefix + 'accuracy'] = epoch_accuracy.item()\n",
    "        \n",
    "        print('Phase time - ',time.time() - t_start)\n",
    "\n",
    "    delta = time.time() - t_start\n",
    "    is_better = logs['val_accuracy'] > prev_acc\n",
    "    if is_better:\n",
    "        prev_acc = logs['val_accuracy']\n",
    "        torch.save({'epoch': epoch,'model_state_dict': model.state_dict(),'optimizer_state_dict': optimizer.state_dict(), 'loss': logs['log loss']}, \"./models/\"+name+\"_\"+TIME_STAMP+\"_\"+str(logs['val_accuracy'])+\".pth\")\n",
    "\n",
    "\n",
    "    liveloss.update(logs)\n",
    "    liveloss.draw()"
   ]
  },
  {
   "cell_type": "markdown",
   "metadata": {},
   "source": [
    "# Inference\n"
   ]
  },
  {
   "cell_type": "code",
   "execution_count": 8,
   "metadata": {},
   "outputs": [],
   "source": [
    "CUDA = True"
   ]
  },
  {
   "cell_type": "code",
   "execution_count": 9,
   "metadata": {},
   "outputs": [
    {
     "data": {
      "text/plain": [
       "Classifier(\n",
       "  (fc_model): Sequential(\n",
       "    (fc_1): Linear(in_features=512, out_features=2048, bias=True)\n",
       "    (leakyrelu_1): LeakyReLU(negative_slope=0.2, inplace)\n",
       "    (fc_2): Linear(in_features=2048, out_features=1024, bias=True)\n",
       "    (leakyrelu_2): LeakyReLU(negative_slope=0.2, inplace)\n",
       "    (fc_3): Linear(in_features=1024, out_features=672, bias=True)\n",
       "  )\n",
       ")"
      ]
     },
     "execution_count": 9,
     "metadata": {},
     "output_type": "execute_result"
    }
   ],
   "source": [
    "UNSPECIFIED_MODEL_PATH = './models_final/unspecified_latent_classifier_512_65_in_499_14052020-234301_0.0025079799361605107.pth'\n",
    "checkpoint = torch.load(UNSPECIFIED_MODEL_PATH)\n",
    "\n",
    "criterion = torch.nn.CrossEntropyLoss()\n",
    "\n",
    "model = Classifier(z_dim=Z_DIM, num_classes=NUM_CLASSES)\n",
    "model.load_state_dict(checkpoint['model_state_dict'])\n",
    "model.eval()"
   ]
  },
  {
   "cell_type": "code",
   "execution_count": null,
   "metadata": {},
   "outputs": [],
   "source": [
    "logs = {}\n",
    "t_start = time.time()\n",
    "predicted_phase = torch.zeros(len(test_loader.dataset), NUM_CLASSES)\n",
    "target_phase = torch.zeros(len(test_loader.dataset))\n",
    "running_loss = 0.0\n",
    "with torch.no_grad():\n",
    "    for (i,batch) in enumerate(test_loader):\n",
    "        with torch.no_grad():\n",
    "            input_tensor = batch[0]\n",
    "#             input_tensor = input_tensor.to(device)\n",
    "            input_tensor = torch.transpose(input_tensor, 2,3)\n",
    "            input_tensor = torch.transpose(input_tensor, 1,2)\n",
    "\n",
    "            z_mu, z_logvar, _ = encoder(input_tensor.to(device))\n",
    "            latent_vector = reparameterize(training=True, mu=z_mu, logvar=z_logvar)\n",
    "\n",
    "        bs = input_tensor.shape[0]\n",
    "        target_tensor = batch[1].to(device).reshape(bs)\n",
    "\n",
    "        softmaxed_tensor = model(latent_vector.cpu())\n",
    "\n",
    "        loss = criterion(softmaxed_tensor, target_tensor.cpu())\n",
    "\n",
    "        predicted_phase[i*bs:(i+1)*bs] = softmaxed_tensor.cpu()\n",
    "        target_phase[i*bs:(i+1)*bs] = target_tensor.cpu()\n",
    "\n",
    "        input_tensor = input_tensor.cpu()\n",
    "        target_tensor = target_tensor.cpu()\n",
    "\n",
    "        running_loss += loss.detach() * bs\n",
    "epoch_loss = running_loss / len(test_loader.dataset)\n",
    "epoch_predicted = torch.argmax(predicted_phase, dim=1)\n",
    "epoch_f1 = f1_score(target_phase, epoch_predicted, average = 'macro')\n",
    "epoch_accuracy = accuracy_score(target_phase, epoch_predicted)"
   ]
  },
  {
   "cell_type": "code",
   "execution_count": null,
   "metadata": {},
   "outputs": [],
   "source": [
    "epoch_accuracy"
   ]
  },
  {
   "cell_type": "code",
   "execution_count": null,
   "metadata": {},
   "outputs": [],
   "source": []
  }
 ],
 "metadata": {
  "kernelspec": {
   "display_name": "t2",
   "language": "python",
   "name": "t2"
  },
  "language_info": {
   "codemirror_mode": {
    "name": "ipython",
    "version": 3
   },
   "file_extension": ".py",
   "mimetype": "text/x-python",
   "name": "python",
   "nbconvert_exporter": "python",
   "pygments_lexer": "ipython3",
   "version": "3.6.8"
  }
 },
 "nbformat": 4,
 "nbformat_minor": 2
}
