{
 "cells": [
  {
   "cell_type": "code",
   "execution_count": 1,
   "metadata": {},
   "outputs": [],
   "source": [
    "import os\n",
    "import numpy as np\n",
    "import time\n",
    "import pickle\n",
    "import matplotlib.pyplot as plt\n",
    "import matplotlib\n",
    "from sklearn.metrics import accuracy_score, f1_score, classification_report\n",
    "from scipy.stats import norm\n",
    "from itertools import cycle\n",
    "\n",
    "\n",
    "import torch\n",
    "from torch import nn\n",
    "import torch.optim as opt\n",
    "from torch.nn import functional as F\n",
    "from torch.utils.data import DataLoader, Dataset\n",
    "from torchvision.datasets import MNIST\n",
    "from torchvision import transforms\n",
    "from livelossplot import PlotLosses\n",
    "from mpl_toolkits.axes_grid1 import ImageGrid\n",
    "from collections import OrderedDict\n",
    "\n",
    "from sprites import Sprites\n",
    "from cycle_consistent_vae import Encoder, Decoder\n",
    "from latent_classifier import Classifier\n",
    "\n",
    "\n",
    "np.random.bit_generator = np.random._bit_generator"
   ]
  },
  {
   "cell_type": "code",
   "execution_count": 2,
   "metadata": {},
   "outputs": [],
   "source": [
    "def mse_loss(inp, target):\n",
    "    return torch.sum((inp - target).pow(2)) / inp.data.nelement()\n",
    "\n",
    "\n",
    "def l1_loss(inp, target):\n",
    "    return torch.sum(torch.abs(inp - target)) / inp.data.nelement()\n",
    "\n",
    "def reparameterize(training, mu, logvar):\n",
    "    if training:\n",
    "        std = torch.exp(0.5 * logvar)\n",
    "        eps = torch.randn_like(std)\n",
    "        return eps * std + mu\n",
    "    else:\n",
    "        return mu\n",
    "\n",
    "def weights_init(layer):\n",
    "    if isinstance(layer, nn.Conv2d):\n",
    "        layer.weight.data.normal_(0.0, 0.05)\n",
    "        layer.bias.data.zero_()\n",
    "    elif isinstance(layer, nn.BatchNorm2d):\n",
    "        layer.weight.data.normal_(1.0, 0.02)\n",
    "        layer.bias.data.zero_()\n",
    "    elif isinstance(layer, nn.Linear):\n",
    "        layer.weight.data.normal_(0.0, 0.05)\n",
    "        layer.bias.data.zero_()\n",
    "\n",
    "def kl_divergence_loss(mu, logvar):\n",
    "    loss = 3 * (- 0.5 * torch.sum(1 + logvar - mu.pow(2) - logvar.exp()))\n",
    "    \n",
    "    return loss / (BATCH_SIZE * 3 * 60 * 60)\n",
    "\n",
    "def imshow_grid(images, shape=[2, 8], name='default', save=False):\n",
    "    \"\"\"\n",
    "    Plot images in a grid of a given shape.\n",
    "    Initial code from: https://github.com/pumpikano/tf-dann/blob/master/utils.py\n",
    "    \"\"\"\n",
    "    fig = plt.figure(1)\n",
    "    grid = ImageGrid(fig, 111, nrows_ncols=shape, axes_pad=0.05)\n",
    "\n",
    "    size = shape[0] * shape[1]\n",
    "    for i in range(size):\n",
    "        grid[i].axis('off')\n",
    "        grid[i].imshow(images[i])  # The AxesGrid object work as a list of axes.\n",
    "\n",
    "    if save:\n",
    "        plt.savefig('./reconstructed_images/' + str(name) + '.png')\n",
    "        plt.clf()\n",
    "    else:\n",
    "        plt.show()"
   ]
  },
  {
   "cell_type": "code",
   "execution_count": 3,
   "metadata": {},
   "outputs": [],
   "source": [
    "BATCH_SIZE = 16\n",
    "train_data = Sprites()\n",
    "test_data = Sprites(split='test')\n",
    "train_loader = DataLoader(train_data,batch_size=BATCH_SIZE,shuffle=True,num_workers=2, drop_last=True)\n",
    "test_loader = DataLoader(test_data,batch_size=BATCH_SIZE,shuffle=True,num_workers=2, drop_last=True)"
   ]
  },
  {
   "cell_type": "code",
   "execution_count": 4,
   "metadata": {},
   "outputs": [],
   "source": [
    "cuda = 1\n",
    "device = torch.device(\"cuda:{}\".format(cuda) if torch.cuda.is_available() else \"cpu\")"
   ]
  },
  {
   "cell_type": "code",
   "execution_count": 5,
   "metadata": {},
   "outputs": [],
   "source": [
    "MODEL_PATH = \"./models/cycle_vae_06052020-030456_99.pth\"\n",
    "checkpoint = torch.load(MODEL_PATH)"
   ]
  },
  {
   "cell_type": "code",
   "execution_count": 6,
   "metadata": {},
   "outputs": [],
   "source": [
    "Z_DIM = 16 #Style Dimension (Unspecified)\n",
    "S_DIM = 16 # Class Dimension (Specified)"
   ]
  },
  {
   "cell_type": "code",
   "execution_count": 7,
   "metadata": {},
   "outputs": [
    {
     "data": {
      "text/plain": [
       "IncompatibleKeys(missing_keys=[], unexpected_keys=[])"
      ]
     },
     "execution_count": 7,
     "metadata": {},
     "output_type": "execute_result"
    }
   ],
   "source": [
    "encoder = Encoder(style_dim=Z_DIM, class_dim=S_DIM)\n",
    "encoder.load_state_dict(checkpoint['encoder'])\n",
    "decoder = Decoder(style_dim=Z_DIM, class_dim=S_DIM)\n",
    "decoder.load_state_dict(checkpoint['decoder'])"
   ]
  },
  {
   "cell_type": "code",
   "execution_count": 8,
   "metadata": {},
   "outputs": [
    {
     "data": {
      "text/plain": [
       "Encoder(\n",
       "  (conv_model): Sequential(\n",
       "    (conv_1): Conv2d(3, 16, kernel_size=(5, 5), stride=(2, 2), padding=(1, 1))\n",
       "    (bn_1): BatchNorm2d(16, eps=1e-05, momentum=0.1, affine=True, track_running_stats=True)\n",
       "    (relu_1): ReLU(inplace)\n",
       "    (conv_2): Conv2d(16, 32, kernel_size=(5, 5), stride=(2, 2), padding=(1, 1))\n",
       "    (bn_2): BatchNorm2d(32, eps=1e-05, momentum=0.1, affine=True, track_running_stats=True)\n",
       "    (relu_2): ReLU(inplace)\n",
       "    (conv_3): Conv2d(32, 64, kernel_size=(5, 5), stride=(2, 2), padding=(1, 1))\n",
       "    (bn_3): BatchNorm2d(64, eps=1e-05, momentum=0.1, affine=True, track_running_stats=True)\n",
       "    (relu_3): ReLU(inplace)\n",
       "    (conv_4): Conv2d(64, 128, kernel_size=(5, 5), stride=(2, 2), padding=(1, 1))\n",
       "    (bn_4): BatchNorm2d(128, eps=1e-05, momentum=0.1, affine=True, track_running_stats=True)\n",
       "    (relu_4): ReLU(inplace)\n",
       "  )\n",
       "  (style_mu): Linear(in_features=512, out_features=16, bias=True)\n",
       "  (style_logvar): Linear(in_features=512, out_features=16, bias=True)\n",
       "  (class_output): Linear(in_features=512, out_features=16, bias=True)\n",
       ")"
      ]
     },
     "execution_count": 8,
     "metadata": {},
     "output_type": "execute_result"
    }
   ],
   "source": [
    "encoder.to(device)\n",
    "encoder.eval()"
   ]
  },
  {
   "cell_type": "code",
   "execution_count": 9,
   "metadata": {},
   "outputs": [
    {
     "data": {
      "text/plain": [
       "Decoder(\n",
       "  (style_input): Sequential(\n",
       "    (0): Linear(in_features=16, out_features=512, bias=True)\n",
       "    (1): LeakyReLU(negative_slope=0.2, inplace)\n",
       "  )\n",
       "  (class_input): Sequential(\n",
       "    (0): Linear(in_features=16, out_features=512, bias=True)\n",
       "    (1): LeakyReLU(negative_slope=0.2, inplace)\n",
       "  )\n",
       "  (deconv_model): Sequential(\n",
       "    (deconv_1): ConvTranspose2d(256, 64, kernel_size=(4, 4), stride=(2, 2))\n",
       "    (de_bn_1): BatchNorm2d(64, eps=1e-05, momentum=0.1, affine=True, track_running_stats=True)\n",
       "    (leakyrelu_1): LeakyReLU(negative_slope=0.2, inplace)\n",
       "    (deconv_2): ConvTranspose2d(64, 32, kernel_size=(4, 4), stride=(2, 2))\n",
       "    (de_bn_2): BatchNorm2d(32, eps=1e-05, momentum=0.1, affine=True, track_running_stats=True)\n",
       "    (leakyrelu_2): LeakyReLU(negative_slope=0.2, inplace)\n",
       "    (deconv_3): ConvTranspose2d(32, 16, kernel_size=(4, 4), stride=(2, 2))\n",
       "    (de_bn_3): BatchNorm2d(16, eps=1e-05, momentum=0.1, affine=True, track_running_stats=True)\n",
       "    (leakyrelu_3): LeakyReLU(negative_slope=0.2, inplace)\n",
       "    (deconv_4): ConvTranspose2d(16, 3, kernel_size=(4, 4), stride=(2, 2), padding=(1, 1))\n",
       "  )\n",
       ")"
      ]
     },
     "execution_count": 9,
     "metadata": {},
     "output_type": "execute_result"
    }
   ],
   "source": [
    "decoder.to(device)\n",
    "decoder.eval()"
   ]
  },
  {
   "cell_type": "markdown",
   "metadata": {},
   "source": [
    "# Latent Classifier - Unspecified Features"
   ]
  },
  {
   "cell_type": "code",
   "execution_count": null,
   "metadata": {},
   "outputs": [],
   "source": [
    "model = Classifier(z_dim=Z_DIM, num_classes=)"
   ]
  },
  {
   "cell_type": "code",
   "execution_count": 11,
   "metadata": {},
   "outputs": [],
   "source": [
    "TIME_STAMP = time.strftime(\"%d%m%Y-%H%M%S\")\n",
    "\n",
    "NUM_EPOCHS = 200\n",
    "\n",
    "LEARNING_RATE = 1e-3\n",
    "\n",
    "MOMENTUM = 0.9\n",
    "WEIGHT_DECAY = 1e-4\n",
    "CUDA = True"
   ]
  },
  {
   "cell_type": "code",
   "execution_count": 14,
   "metadata": {},
   "outputs": [],
   "source": [
    "is_better = True\n",
    "prev_acc = float('inf')\n",
    "name = \"unspecified_latent_classifier\"\n",
    "\n",
    "liveloss = PlotLosses(fig_path='./figures/'+name+\".png\")"
   ]
  },
  {
   "cell_type": "code",
   "execution_count": 15,
   "metadata": {},
   "outputs": [],
   "source": [
    "dataloaders = {'train':train_loader, 'validation':test_loader}"
   ]
  },
  {
   "cell_type": "code",
   "execution_count": null,
   "metadata": {},
   "outputs": [],
   "source": [
    "for epoch in range(NUM_EPOCHS):\n",
    "    logs = {}\n",
    "    t_start = time.time()\n",
    "    \n",
    "    for phase in ['train', 'validation']:\n",
    "        if phase == 'train':\n",
    "            model.train()\n",
    "            \n",
    "        else:\n",
    "            model.eval()\n",
    "        model.to(device)\n",
    "        \n",
    "        print(\"Started Phase\")\n",
    "\n",
    "        running_loss = 0.0\n",
    "                \n",
    "        predicted_phase = torch.zeros(len(dataloaders[phase].dataset), 8)\n",
    "        target_phase = torch.zeros(len(dataloaders[phase].dataset))\n",
    "        \n",
    "        if phase == 'validation':\n",
    "            \n",
    "            with torch.no_grad():\n",
    "                \n",
    "                recons = None\n",
    "                \n",
    "                for (i,batch) in enumerate(dataloaders[phase]):\n",
    "                    input_tensor = batch[0]\n",
    "                    bs = input_tensor.shape[0]\n",
    "\n",
    "                    (recons, inp, mu, logvar) = model(torch.Tensor(input_tensor).to(device))\n",
    "\n",
    "                    loss = vae_loss(inp,recons,mu,logvar)\n",
    "\n",
    "                    input_tensor = input_tensor.cpu()\n",
    "                    running_loss += loss.detach() * bs\n",
    "                \n",
    "                print(epoch)\n",
    "                    \n",
    "                if epoch % DISPLAY_STATE == 0:\n",
    "\n",
    "                    plot_model_state(recons, epoch)\n",
    "     \n",
    "        else:\n",
    "            \n",
    "            for (i,batch) in enumerate(dataloaders[phase]):\n",
    "                input_tensor = batch[0]\n",
    "                bs = input_tensor.shape[0]\n",
    "                \n",
    "                (recons, inp, mu, logvar) = model(torch.Tensor(input_tensor).to(device))\n",
    "\n",
    "                loss = vae_loss(inp,recons,mu,logvar)\n",
    "\n",
    "                optimizer.zero_grad()\n",
    "                loss.backward()\n",
    "                optimizer.step()\n",
    "\n",
    "\n",
    "                input_tensor = input_tensor.cpu()\n",
    "                running_loss += loss.detach() * bs\n",
    "    \n",
    "\n",
    "        epoch_loss = running_loss / len(dataloaders[phase].dataset)\n",
    "\n",
    "        \n",
    "        model.to('cpu')\n",
    "\n",
    "        prefix = ''\n",
    "        if phase == 'validation':\n",
    "            prefix = 'val_'\n",
    "\n",
    "        logs[prefix + 'log loss'] = epoch_loss.item()\n",
    "        \n",
    "        print('Phase time - ',time.time() - t_start)\n",
    "\n",
    "    delta = time.time() - t_start\n",
    "    is_better = logs['val_log loss'] < prev_acc\n",
    "    if is_better:\n",
    "        prev_acc = logs['val_log loss']\n",
    "        torch.save({'epoch': epoch,'model_state_dict': model.state_dict(),'optimizer_state_dict': optimizer.state_dict(), 'loss': logs['log loss']}, \"../models2/\"+name+\"_\"+TIME_STAMP+\"_\"+str(logs['val_log loss'])+\".pth\")\n",
    "\n",
    "\n",
    "    liveloss.update(logs)\n",
    "    liveloss.draw()"
   ]
  }
 ],
 "metadata": {
  "kernelspec": {
   "display_name": "t2",
   "language": "python",
   "name": "t2"
  },
  "language_info": {
   "codemirror_mode": {
    "name": "ipython",
    "version": 3
   },
   "file_extension": ".py",
   "mimetype": "text/x-python",
   "name": "python",
   "nbconvert_exporter": "python",
   "pygments_lexer": "ipython3",
   "version": "3.6.8"
  }
 },
 "nbformat": 4,
 "nbformat_minor": 2
}
